{
 "cells": [
  {
   "cell_type": "code",
   "execution_count": 1,
   "id": "ad62e7c0-291d-46bc-a890-851b40e11ade",
   "metadata": {},
   "outputs": [],
   "source": [
    "# installing required packages\n",
    "\n",
    "# !pip install SpeechRecognition"
   ]
  },
  {
   "cell_type": "code",
   "execution_count": 2,
   "id": "802722bb-5502-4068-82d0-5ca8d1ea440f",
   "metadata": {},
   "outputs": [],
   "source": [
    "# pip install Wikipedia"
   ]
  },
  {
   "cell_type": "code",
   "execution_count": 3,
   "id": "da518dce-c5d6-4979-b390-fe5f09eeb759",
   "metadata": {},
   "outputs": [],
   "source": [
    "# pip install openai"
   ]
  },
  {
   "cell_type": "code",
   "execution_count": null,
   "id": "a0620a07-07e6-4ea4-b006-086c5808a7e6",
   "metadata": {},
   "outputs": [],
   "source": []
  },
  {
   "cell_type": "code",
   "execution_count": 4,
   "id": "58c472ed-ef2e-475a-bc27-69a8a398d980",
   "metadata": {},
   "outputs": [],
   "source": [
    "# pip install PyAudio"
   ]
  },
  {
   "cell_type": "code",
   "execution_count": null,
   "id": "1f1cec0f-efac-470f-82ac-bdda907d61ea",
   "metadata": {},
   "outputs": [],
   "source": []
  },
  {
   "cell_type": "code",
   "execution_count": 5,
   "id": "0db51e51-3863-4884-a4ff-530203dd6619",
   "metadata": {},
   "outputs": [],
   "source": [
    "import win32com.client\n",
    "\n",
    "# speaker = win32com.client.Dispatch(\"SAPI.SpVoice\")\n",
    "\n",
    "# while 1:\n",
    "#     print (\"Enter word you wanna speak\")\n",
    "#     # s= input()\n",
    "#     speaker.speak(s)\n"
   ]
  },
  {
   "cell_type": "code",
   "execution_count": null,
   "id": "74487f2e-4dd8-456b-a039-4c35da1ecaf1",
   "metadata": {},
   "outputs": [],
   "source": []
  },
  {
   "cell_type": "code",
   "execution_count": null,
   "id": "fdb015c6-1692-4f11-a75b-74db9928fb03",
   "metadata": {},
   "outputs": [],
   "source": []
  },
  {
   "cell_type": "code",
   "execution_count": 6,
   "id": "1e0299e2-8963-421f-953f-a969e56ffda4",
   "metadata": {},
   "outputs": [],
   "source": [
    "# import packages\n",
    "\n",
    "import speech_recognition as sr\n",
    "import os"
   ]
  },
  {
   "cell_type": "code",
   "execution_count": 50,
   "id": "cd715dda-d2c4-438f-b943-c072fb4adf7a",
   "metadata": {},
   "outputs": [
    {
     "name": "stdout",
     "output_type": "stream",
     "text": [
      "Hey buddy\n",
      "Listening...\n",
      "Recognizing...\n",
      "User said open calculator\n",
      "Listening...\n",
      "Recognizing...\n",
      "Listening...\n"
     ]
    },
    {
     "ename": "KeyboardInterrupt",
     "evalue": "",
     "output_type": "error",
     "traceback": [
      "\u001b[1;31m---------------------------------------------------------------------------\u001b[0m",
      "\u001b[1;31mKeyboardInterrupt\u001b[0m                         Traceback (most recent call last)",
      "Cell \u001b[1;32mIn[50], line 32\u001b[0m\n\u001b[0;32m     30\u001b[0m \u001b[38;5;28;01mwhile\u001b[39;00m \u001b[38;5;28;01mTrue\u001b[39;00m:\n\u001b[0;32m     31\u001b[0m     \u001b[38;5;28mprint\u001b[39m (\u001b[38;5;124m\"\u001b[39m\u001b[38;5;124mListening...\u001b[39m\u001b[38;5;124m\"\u001b[39m)\n\u001b[1;32m---> 32\u001b[0m     query \u001b[38;5;241m=\u001b[39m \u001b[43mtakeCommand\u001b[49m\u001b[43m(\u001b[49m\u001b[43m)\u001b[49m\n\u001b[0;32m     33\u001b[0m     sites \u001b[38;5;241m=\u001b[39m [[\u001b[38;5;124m\"\u001b[39m\u001b[38;5;124myoutube\u001b[39m\u001b[38;5;124m\"\u001b[39m, \u001b[38;5;124m\"\u001b[39m\u001b[38;5;124mhttps://www.youtube.com/\u001b[39m\u001b[38;5;124m\"\u001b[39m],[\u001b[38;5;124m\"\u001b[39m\u001b[38;5;124mWikipedia\u001b[39m\u001b[38;5;124m\"\u001b[39m,\u001b[38;5;124m\"\u001b[39m\u001b[38;5;124mhttps://www.wikipedia.com/\u001b[39m\u001b[38;5;124m\"\u001b[39m],\n\u001b[0;32m     34\u001b[0m              [\u001b[38;5;124m\"\u001b[39m\u001b[38;5;124mgoogle\u001b[39m\u001b[38;5;124m\"\u001b[39m, \u001b[38;5;124m\"\u001b[39m\u001b[38;5;124mhttps://www.google.com/\u001b[39m\u001b[38;5;124m\"\u001b[39m]]\n\u001b[0;32m     35\u001b[0m     \u001b[38;5;66;03m# say(query)\u001b[39;00m\n",
      "Cell \u001b[1;32mIn[50], line 18\u001b[0m, in \u001b[0;36mtakeCommand\u001b[1;34m()\u001b[0m\n\u001b[0;32m     15\u001b[0m r \u001b[38;5;241m=\u001b[39m sr\u001b[38;5;241m.\u001b[39mRecognizer()   \u001b[38;5;66;03m#\u001b[39;00m\n\u001b[0;32m     16\u001b[0m \u001b[38;5;28;01mwith\u001b[39;00m sr\u001b[38;5;241m.\u001b[39mMicrophone() \u001b[38;5;28;01mas\u001b[39;00m source:    \n\u001b[0;32m     17\u001b[0m     \u001b[38;5;66;03m# r.pause_threshold = 1  # Tweak\u001b[39;00m\n\u001b[1;32m---> 18\u001b[0m     audio \u001b[38;5;241m=\u001b[39m \u001b[43mr\u001b[49m\u001b[38;5;241;43m.\u001b[39;49m\u001b[43mlisten\u001b[49m\u001b[43m(\u001b[49m\u001b[43msource\u001b[49m\u001b[43m)\u001b[49m\n\u001b[0;32m     19\u001b[0m     \u001b[38;5;28;01mtry\u001b[39;00m:\n\u001b[0;32m     20\u001b[0m         \u001b[38;5;28mprint\u001b[39m (\u001b[38;5;124m\"\u001b[39m\u001b[38;5;124mRecognizing...\u001b[39m\u001b[38;5;124m\"\u001b[39m)\n",
      "File \u001b[1;32m~\\AppData\\Local\\Programs\\Python\\Python312\\Lib\\site-packages\\speech_recognition\\__init__.py:523\u001b[0m, in \u001b[0;36mRecognizer.listen\u001b[1;34m(self, source, timeout, phrase_time_limit, snowboy_configuration)\u001b[0m\n\u001b[0;32m    520\u001b[0m \u001b[38;5;28;01mif\u001b[39;00m phrase_time_limit \u001b[38;5;129;01mand\u001b[39;00m elapsed_time \u001b[38;5;241m-\u001b[39m phrase_start_time \u001b[38;5;241m>\u001b[39m phrase_time_limit:\n\u001b[0;32m    521\u001b[0m     \u001b[38;5;28;01mbreak\u001b[39;00m\n\u001b[1;32m--> 523\u001b[0m buffer \u001b[38;5;241m=\u001b[39m \u001b[43msource\u001b[49m\u001b[38;5;241;43m.\u001b[39;49m\u001b[43mstream\u001b[49m\u001b[38;5;241;43m.\u001b[39;49m\u001b[43mread\u001b[49m\u001b[43m(\u001b[49m\u001b[43msource\u001b[49m\u001b[38;5;241;43m.\u001b[39;49m\u001b[43mCHUNK\u001b[49m\u001b[43m)\u001b[49m\n\u001b[0;32m    524\u001b[0m \u001b[38;5;28;01mif\u001b[39;00m \u001b[38;5;28mlen\u001b[39m(buffer) \u001b[38;5;241m==\u001b[39m \u001b[38;5;241m0\u001b[39m: \u001b[38;5;28;01mbreak\u001b[39;00m  \u001b[38;5;66;03m# reached end of the stream\u001b[39;00m\n\u001b[0;32m    525\u001b[0m frames\u001b[38;5;241m.\u001b[39mappend(buffer)\n",
      "File \u001b[1;32m~\\AppData\\Local\\Programs\\Python\\Python312\\Lib\\site-packages\\speech_recognition\\__init__.py:199\u001b[0m, in \u001b[0;36mMicrophone.MicrophoneStream.read\u001b[1;34m(self, size)\u001b[0m\n\u001b[0;32m    198\u001b[0m \u001b[38;5;28;01mdef\u001b[39;00m \u001b[38;5;21mread\u001b[39m(\u001b[38;5;28mself\u001b[39m, size):\n\u001b[1;32m--> 199\u001b[0m     \u001b[38;5;28;01mreturn\u001b[39;00m \u001b[38;5;28;43mself\u001b[39;49m\u001b[38;5;241;43m.\u001b[39;49m\u001b[43mpyaudio_stream\u001b[49m\u001b[38;5;241;43m.\u001b[39;49m\u001b[43mread\u001b[49m\u001b[43m(\u001b[49m\u001b[43msize\u001b[49m\u001b[43m,\u001b[49m\u001b[43m \u001b[49m\u001b[43mexception_on_overflow\u001b[49m\u001b[38;5;241;43m=\u001b[39;49m\u001b[38;5;28;43;01mFalse\u001b[39;49;00m\u001b[43m)\u001b[49m\n",
      "File \u001b[1;32m~\\AppData\\Local\\Programs\\Python\\Python312\\Lib\\site-packages\\pyaudio\\__init__.py:570\u001b[0m, in \u001b[0;36mPyAudio.Stream.read\u001b[1;34m(self, num_frames, exception_on_overflow)\u001b[0m\n\u001b[0;32m    567\u001b[0m \u001b[38;5;28;01mif\u001b[39;00m \u001b[38;5;129;01mnot\u001b[39;00m \u001b[38;5;28mself\u001b[39m\u001b[38;5;241m.\u001b[39m_is_input:\n\u001b[0;32m    568\u001b[0m     \u001b[38;5;28;01mraise\u001b[39;00m \u001b[38;5;167;01mIOError\u001b[39;00m(\u001b[38;5;124m\"\u001b[39m\u001b[38;5;124mNot input stream\u001b[39m\u001b[38;5;124m\"\u001b[39m,\n\u001b[0;32m    569\u001b[0m                   paCanNotReadFromAnOutputOnlyStream)\n\u001b[1;32m--> 570\u001b[0m \u001b[38;5;28;01mreturn\u001b[39;00m \u001b[43mpa\u001b[49m\u001b[38;5;241;43m.\u001b[39;49m\u001b[43mread_stream\u001b[49m\u001b[43m(\u001b[49m\u001b[38;5;28;43mself\u001b[39;49m\u001b[38;5;241;43m.\u001b[39;49m\u001b[43m_stream\u001b[49m\u001b[43m,\u001b[49m\u001b[43m \u001b[49m\u001b[43mnum_frames\u001b[49m\u001b[43m,\u001b[49m\n\u001b[0;32m    571\u001b[0m \u001b[43m                      \u001b[49m\u001b[43mexception_on_overflow\u001b[49m\u001b[43m)\u001b[49m\n",
      "\u001b[1;31mKeyboardInterrupt\u001b[0m: "
     ]
    }
   ],
   "source": [
    "import speech_recognition as sr\n",
    "import os\n",
    "import pyttsx3\n",
    "import webbrowser\n",
    "import datetime\n",
    "\n",
    "\n",
    "def say(text):\n",
    "    engine = pyttsx3.init()\n",
    "    engine.say(text)\n",
    "    engine.runAndWait()\n",
    "    os.system(f\"say{text}\")\n",
    "\n",
    "def takeCommand():               #Taking input form mice \n",
    "    r = sr.Recognizer()   #\n",
    "    with sr.Microphone() as source:    \n",
    "        # r.pause_threshold = 1  # Tweak\n",
    "        audio = r.listen(source)\n",
    "        try:\n",
    "            print (\"Recognizing...\")\n",
    "            query = r.recognize_google(audio, language = \"en-in\")\n",
    "            print (f\"User said {query}\")\n",
    "            return query\n",
    "        except Exception as e:\n",
    "            return \"Some error occured\"\n",
    "\n",
    "if __name__ == \"__main__\":\n",
    "    print (\"Hey buddy\")\n",
    "    say(\"Hello i am you device\")\n",
    "    while True:\n",
    "        print (\"Listening...\")\n",
    "        query = takeCommand()\n",
    "        sites = [[\"youtube\", \"https://www.youtube.com/\"],[\"Wikipedia\",\"https://www.wikipedia.com/\"],\n",
    "                 [\"google\", \"https://www.google.com/\"]]\n",
    "        # say(query)\n",
    "        for site in sites:\n",
    "            if f\"Open {site[0]}\".lower() in query.lower():\n",
    "                say(\"Executing commmand\")\n",
    "                webbrowser.open(site[1])\n",
    "\n",
    "# Trying to play a music\n",
    "\n",
    "        if \"play some music\" in query:\n",
    "            # Corrected file path for Windows\n",
    "            musicPath = r\"C:\\Users\\Farogh\\Desktop\\New DataScience\\Voice Assistance Project\\dheeredheeredjjohalcomringtone1-13620.mp3\"\n",
    "            \n",
    "            if os.path.exists(musicPath):\n",
    "                say(\"Okay sir, start playing music\")\n",
    "                os.startfile(musicPath)\n",
    "            else:\n",
    "                print(f\"File not found: {musicPath}\")\n",
    "\n",
    "# Date Time query\n",
    "\n",
    "        if \"the time\" in query:\n",
    "            strfTime = datetime.datetime.now().strftime(\"%H:%M:%S\")\n",
    "            print(f\"Hello sir, the time is {strfTime}\")\n",
    "            say(f\"Hello sir, the time is {strfTime}\")\n",
    "            \n",
    "\n",
    "# Try to Open inbuilt apps (like calculator)\n",
    "\n",
    "        if \"open calculator\".lower() in query.lower():\n",
    "            path = r\"C:/Windows/System32/calc.exe\"\n",
    "            os.system(path)\n",
    "\n"
   ]
  },
  {
   "cell_type": "code",
   "execution_count": null,
   "id": "e0f9ff10-80b3-4ab5-a006-7ec866a794ee",
   "metadata": {},
   "outputs": [],
   "source": []
  },
  {
   "cell_type": "code",
   "execution_count": null,
   "id": "6a66ef03-f85a-484a-ac8b-c230282839db",
   "metadata": {},
   "outputs": [],
   "source": [
    "# pip install pyttsx3\n"
   ]
  },
  {
   "cell_type": "code",
   "execution_count": null,
   "id": "42d18c80-4c46-4fcb-95fc-a6548cf0e71a",
   "metadata": {},
   "outputs": [],
   "source": [
    "import os\n",
    "import speech_recognition as sr\n",
    "import pyttsx3\n",
    "\n",
    "# def say(text):\n",
    "#     # Initialize the text-to-speech engine\n",
    "#     engine = pyttsx3.init()\n",
    "#     engine.say(text)\n",
    "#     engine.runAndWait()\n",
    "\n",
    "# def takeCommand():  # Taking input from microphone\n",
    "#     r = sr.Recognizer()\n",
    "#     with sr.Microphone() as source:\n",
    "#         print(\"Listening...\")\n",
    "#         r.pause_threshold = 1  # Adjust if necessary\n",
    "#         audio = r.listen(source)\n",
    "\n",
    "#     try:\n",
    "#         print(\"Recognizing...\")\n",
    "#         query = r.recognize_google(audio, language=\"en-in\")\n",
    "#         print(f\"User said: {query}\")\n",
    "#         return query\n",
    "\n",
    "#     except sr.UnknownValueError:\n",
    "#         print(\"Sorry, I did not understand that.\")\n",
    "#         return \"None\"\n",
    "    \n",
    "#     except sr.RequestError:\n",
    "#         print(\"Could not request results; check your network connection.\")\n",
    "#         return \"None\"\n",
    "\n",
    "# if __name__ == \"__main__\":\n",
    "#     print(\"Hey buddy\")\n",
    "#     say(\"Hello, I am your device\")\n",
    "    \n",
    "#     text = takeCommand()\n",
    "\n",
    "#     if text != \"None\":\n",
    "#         say(text)\n"
   ]
  },
  {
   "cell_type": "code",
   "execution_count": null,
   "id": "6c517b16-3d72-4a33-bedc-1d08bc64cc2a",
   "metadata": {},
   "outputs": [],
   "source": []
  },
  {
   "cell_type": "code",
   "execution_count": 8,
   "id": "cd398830-fb85-4935-98e6-cfd18b7e330a",
   "metadata": {},
   "outputs": [],
   "source": []
  },
  {
   "cell_type": "code",
   "execution_count": 9,
   "id": "3d02794f-0f16-4581-bc30-01552695d336",
   "metadata": {},
   "outputs": [],
   "source": []
  },
  {
   "cell_type": "code",
   "execution_count": 19,
   "id": "7c0a4595-ea99-4c86-800e-b1b9b6653692",
   "metadata": {},
   "outputs": [
    {
     "name": "stdin",
     "output_type": "stream",
     "text": [
      "Search here :  laptop\n"
     ]
    },
    {
     "name": "stdout",
     "output_type": "stream",
     "text": [
      "A laptop computer or notebook computer, also known as a laptop or notebook, is a small, portable personal computer (PC). Laptops typically have a clamshell form factor with a flat-panel screen on the inside of the upper lid and an alphanumeric keyboard and pointing device on the inside of the lower lid.\n"
     ]
    }
   ],
   "source": [
    "# A voice assitant which gives summary about the given text\n",
    "\n",
    "\n",
    "import pyttsx3\n",
    "import wikipedia\n",
    "\n",
    "assistant = pyttsx3.init()\n",
    "\n",
    "searchbar = input(\"Search here : \")\n",
    "\n",
    "searchresult = wikipedia.summary(searchbar, sentences= 2)\n",
    "print ( searchresult)\n",
    "assistant.say(searchresult)\n",
    "assistant.runAndWait()"
   ]
  },
  {
   "cell_type": "code",
   "execution_count": null,
   "id": "b769f0c3-ed93-46b8-80ab-eca9df17de12",
   "metadata": {},
   "outputs": [],
   "source": []
  },
  {
   "cell_type": "code",
   "execution_count": 20,
   "id": "3253d954-9e55-4885-aeae-d37900163aab",
   "metadata": {},
   "outputs": [
    {
     "name": "stdin",
     "output_type": "stream",
     "text": [
      "Search here:  laptop\n"
     ]
    },
    {
     "name": "stdout",
     "output_type": "stream",
     "text": [
      "A laptop computer or notebook computer, also known as a laptop or notebook, is a small, portable personal computer (PC). Laptops typically have a clamshell form factor with a flat-panel screen on the inside of the upper lid and an alphanumeric keyboard and pointing device on the inside of the lower lid.\n"
     ]
    }
   ],
   "source": [
    "# Method 2 for a voice assistant\n",
    "\n",
    "import pyttsx3\n",
    "import wikipedia\n",
    "\n",
    "# Initialize the text-to-speech engine\n",
    "assistant = pyttsx3.init()\n",
    "\n",
    "# Prompt the user for a search query\n",
    "searchbar = input(\"Search here: \")\n",
    "\n",
    "try:\n",
    "    # Get the summary from Wikipedia\n",
    "    searchresult = wikipedia.summary(searchbar, sentences=2)\n",
    "    print(searchresult)\n",
    "\n",
    "    # Make the assistant speak the result\n",
    "    assistant.say(searchresult)\n",
    "    assistant.runAndWait()\n",
    "\n",
    "except wikipedia.exceptions.DisambiguationError as e:\n",
    "    print(f\"Your search term '{searchbar}' is too ambiguous. Here are some suggestions: {e.options}\")\n",
    "    assistant.say(\"Your search term is too ambiguous. Please provide more details.\")\n",
    "    assistant.runAndWait()\n",
    "\n",
    "except wikipedia.exceptions.PageError:\n",
    "    print(f\"No page found for '{searchbar}'. Please try another search term.\")\n",
    "    assistant.say(f\"No page found for '{searchbar}'. Please try another search term.\")\n",
    "    assistant.runAndWait()\n"
   ]
  },
  {
   "cell_type": "code",
   "execution_count": null,
   "id": "4b7cd88c-5959-483b-a9a1-2d49a687387f",
   "metadata": {},
   "outputs": [],
   "source": []
  },
  {
   "cell_type": "code",
   "execution_count": null,
   "id": "54742c89-b945-4f1d-9503-20dea9e17d85",
   "metadata": {},
   "outputs": [],
   "source": []
  },
  {
   "cell_type": "code",
   "execution_count": null,
   "id": "2fa63413-96aa-4d79-b849-9e211bbd7d77",
   "metadata": {},
   "outputs": [],
   "source": []
  },
  {
   "cell_type": "code",
   "execution_count": null,
   "id": "94b3282e-561e-4863-a134-df47c3ff1645",
   "metadata": {},
   "outputs": [],
   "source": []
  },
  {
   "cell_type": "code",
   "execution_count": null,
   "id": "13c9ccbc-dc13-4b8d-a4e0-6696059bdc12",
   "metadata": {},
   "outputs": [],
   "source": []
  },
  {
   "cell_type": "code",
   "execution_count": null,
   "id": "aac08c30-22fc-4e92-8221-56c049d2b589",
   "metadata": {},
   "outputs": [],
   "source": []
  },
  {
   "cell_type": "code",
   "execution_count": null,
   "id": "3cca283d-3306-4e4c-b43c-55bf75b928bf",
   "metadata": {},
   "outputs": [],
   "source": []
  },
  {
   "cell_type": "code",
   "execution_count": null,
   "id": "c8abeb4d-adf9-4458-a5d2-a14be3349d82",
   "metadata": {},
   "outputs": [],
   "source": []
  },
  {
   "cell_type": "code",
   "execution_count": null,
   "id": "e7ebb111-2ba8-4c03-a460-df3891b2ce46",
   "metadata": {},
   "outputs": [],
   "source": []
  },
  {
   "cell_type": "code",
   "execution_count": null,
   "id": "a25b272c-6153-474b-a059-fa5d60a39970",
   "metadata": {},
   "outputs": [],
   "source": []
  },
  {
   "cell_type": "code",
   "execution_count": null,
   "id": "5d9f662e-587f-4c9a-8b7e-9ae1088b4375",
   "metadata": {},
   "outputs": [],
   "source": []
  },
  {
   "cell_type": "code",
   "execution_count": null,
   "id": "750de3f2-7789-4c3b-8e1e-beef3c3bb67a",
   "metadata": {},
   "outputs": [],
   "source": []
  },
  {
   "cell_type": "code",
   "execution_count": null,
   "id": "7699a085-9bb7-4cc1-aeeb-ef0846b8cc65",
   "metadata": {},
   "outputs": [],
   "source": []
  },
  {
   "cell_type": "code",
   "execution_count": null,
   "id": "72db6bd8-b78e-48a3-ba02-72c87c45bf87",
   "metadata": {},
   "outputs": [],
   "source": []
  },
  {
   "cell_type": "code",
   "execution_count": null,
   "id": "145ed6c3-6c72-433f-adf5-9b19805cadee",
   "metadata": {},
   "outputs": [],
   "source": []
  }
 ],
 "metadata": {
  "kernelspec": {
   "display_name": "Python 3 (ipykernel)",
   "language": "python",
   "name": "python3"
  },
  "language_info": {
   "codemirror_mode": {
    "name": "ipython",
    "version": 3
   },
   "file_extension": ".py",
   "mimetype": "text/x-python",
   "name": "python",
   "nbconvert_exporter": "python",
   "pygments_lexer": "ipython3",
   "version": "3.12.3"
  }
 },
 "nbformat": 4,
 "nbformat_minor": 5
}
